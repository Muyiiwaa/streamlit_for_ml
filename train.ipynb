{
 "cells": [
  {
   "cell_type": "code",
   "execution_count": 1,
   "id": "d5d7eda2",
   "metadata": {},
   "outputs": [],
   "source": [
    "import pandas as pd\n",
    "import numpy as np\n",
    "import joblib\n",
    "from sklearn.preprocessing import StandardScaler\n",
    "from sklearn.model_selection import train_test_split\n",
    "from sklearn.ensemble import RandomForestRegressor\n",
    "from sklearn.metrics import mean_squared_error"
   ]
  },
  {
   "cell_type": "code",
   "execution_count": 2,
   "id": "fd8d29cc",
   "metadata": {},
   "outputs": [
    {
     "name": "stdout",
     "output_type": "stream",
     "text": [
      "Index(['age', 'bmi', 'children', 'region_northeast', 'region_northwest',\n",
      "       'region_southeast', 'region_southwest', 'smoker_no', 'smoker_yes',\n",
      "       'sex_female', 'sex_male'],\n",
      "      dtype='object')\n"
     ]
    }
   ],
   "source": [
    "# load in the dataset\n",
    "data = pd.read_csv('insurance.csv')\n",
    "\n",
    "# scale and preprocess the dataset\n",
    "cat_cols = ['region','smoker','sex']\n",
    "num_cols = ['age','bmi','children']\n",
    "\n",
    "cat_cols = pd.get_dummies(data[cat_cols], dtype = float) # one-hot encode the cat variables\n",
    "X = pd.concat([data[num_cols], cat_cols], axis = 1) # concatenate all columns\n",
    "\n",
    "y = data['charges'] # create y series\n",
    "\n",
    "scaler = StandardScaler()\n",
    "columns = X.columns\n",
    "X = scaler.fit_transform(X)\n",
    "X = pd.DataFrame(data = X, columns = columns)\n",
    "\n",
    "print(X.columns)"
   ]
  },
  {
   "cell_type": "code",
   "execution_count": null,
   "id": "1021ace4",
   "metadata": {},
   "outputs": [],
   "source": [
    "# begin the model training and prediction\n",
    "X_train, X_test, y_train, y_test = train_test_split(X,y, \n",
    "                                                    test_size = 0.2,random_state = 23)\n",
    "model = RandomForestRegressor()\n",
    "model.fit(X_train, y_train)\n",
    "y_pred = model.predict(X_test)\n",
    "\n",
    "# model evaluation\n",
    "rmse = mean_squared_error(y_test, y_pred, squared=False)\n",
    "\n",
    "# pickle the model\n",
    "joblib.dump(model, 'model.pkl')"
   ]
  }
 ],
 "metadata": {
  "kernelspec": {
   "display_name": "Python 3",
   "language": "python",
   "name": "python3"
  },
  "language_info": {
   "codemirror_mode": {
    "name": "ipython",
    "version": 3
   },
   "file_extension": ".py",
   "mimetype": "text/x-python",
   "name": "python",
   "nbconvert_exporter": "python",
   "pygments_lexer": "ipython3",
   "version": "3.12.1"
  }
 },
 "nbformat": 4,
 "nbformat_minor": 5
}
